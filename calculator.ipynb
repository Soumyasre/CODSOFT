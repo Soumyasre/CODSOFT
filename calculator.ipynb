{
 "cells": [
  {
   "cell_type": "code",
   "execution_count": 1,
   "id": "01a4e997-95f0-4c3a-a426-3177d668d524",
   "metadata": {},
   "outputs": [
    {
     "name": "stdout",
     "output_type": "stream",
     "text": [
      "Requirement already satisfied: tk in c:\\users\\soumy\\anaconda3\\lib\\site-packages (0.1.0)Note: you may need to restart the kernel to use updated packages.\n",
      "\n"
     ]
    }
   ],
   "source": [
    "pip install tk"
   ]
  },
  {
   "cell_type": "code",
   "execution_count": 18,
   "id": "76e7fb0d-bc0c-4082-8908-f81d8c581bea",
   "metadata": {},
   "outputs": [],
   "source": [
    "import tkinter as tk\n",
    "from tkinter import messagebox\n",
    "\n",
    "def calculate():\n",
    "    try:\n",
    "        num1 = float(entry1.get())\n",
    "        num2 = float(entry2.get())\n",
    "        operation = operation_var.get()\n",
    "\n",
    "        if operation == \"+\":\n",
    "            result = num1 + num2\n",
    "        elif operation == \"-\":\n",
    "            result = num1 - num2\n",
    "        elif operation == \"*\":\n",
    "            result = num1 * num2\n",
    "        elif operation == \"/\":\n",
    "            if num2 == 0:\n",
    "                messagebox.showerror(\"Error\", \"Division by zero is not allowed.\")\n",
    "                return\n",
    "            result = num1 / num2\n",
    "        elif operation == \"%\":\n",
    "            result=num1 % num2\n",
    "        else:\n",
    "            messagebox.showerror(\"Error\", \"Invalid operation selected.\")\n",
    "            return\n",
    "        \n",
    "        result_label.config(text=f\"Result: {result}\")\n",
    "    except ValueError:\n",
    "        messagebox.showerror(\"Error\", \"Please enter valid numbers.\")\n",
    "\n",
    "root = tk.Tk()\n",
    "root.title(\"Simple Calculator\")\n",
    "\n",
    "tk.Label(root, text=\"First Number:\").grid(row=0, column=0, padx=10, pady=10)\n",
    "entry1 = tk.Entry(root)\n",
    "entry1.grid(row=0, column=1)\n",
    "\n",
    "tk.Label(root, text=\"Second Number:\").grid(row=1, column=0, padx=10, pady=10)\n",
    "entry2 = tk.Entry(root)\n",
    "entry2.grid(row=1, column=1)\n",
    "\n",
    "operation_var = tk.StringVar(value=\"+\")\n",
    "tk.Label(root, text=\"Operation:\").grid(row=2, column=0, padx=10, pady=10)\n",
    "operations = [\"+\", \"-\", \"*\", \"/\",\"%\"]\n",
    "for i, op in enumerate(operations):\n",
    "    tk.Radiobutton(root, text=op, variable=operation_var, value=op).grid(row=2, column= i + 1)\n",
    "\n",
    "calculate_button = tk.Button(root, text=\"Calculate\", command=calculate)\n",
    "calculate_button.grid(row=3, column=0, columnspan=4, pady=10)\n",
    "\n",
    "result_label = tk.Label(root, text=\"Result: \")\n",
    "result_label.grid(row=4, column=0, columnspan=4)\n",
    "root.mainloop()\n",
    "\n"
   ]
  },
  {
   "cell_type": "code",
   "execution_count": null,
   "id": "5fb826e4-c1f6-4e0a-bedc-df1b2c9d74a4",
   "metadata": {},
   "outputs": [],
   "source": []
  }
 ],
 "metadata": {
  "kernelspec": {
   "display_name": "Python 3 (ipykernel)",
   "language": "python",
   "name": "python3"
  },
  "language_info": {
   "codemirror_mode": {
    "name": "ipython",
    "version": 3
   },
   "file_extension": ".py",
   "mimetype": "text/x-python",
   "name": "python",
   "nbconvert_exporter": "python",
   "pygments_lexer": "ipython3",
   "version": "3.12.4"
  }
 },
 "nbformat": 4,
 "nbformat_minor": 5
}
