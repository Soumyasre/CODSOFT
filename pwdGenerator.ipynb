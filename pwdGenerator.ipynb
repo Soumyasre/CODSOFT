{
 "cells": [
  {
   "cell_type": "code",
   "execution_count": 2,
   "id": "2fb7439c-cb18-43fe-a471-94f90417b2d2",
   "metadata": {},
   "outputs": [],
   "source": [
    "import tkinter as tk\n",
    "from tkinter import messagebox\n",
    "import random\n",
    "import string\n",
    "def generate_password():\n",
    "    try:\n",
    "        length = int(entry_length.get())\n",
    "\n",
    "        if length <= 1:\n",
    "            messagebox.showerror(\"Error\", \"Please enter a valid positive number for the length.\")\n",
    "            return\n",
    "        characters = string.ascii_letters + string.digits + string.punctuation\n",
    "        password = ''.join(random.choice(characters) for _ in range(length))\n",
    "        password_display.config(state='normal') \n",
    "        password_display.delete(0, tk.END) \n",
    "        password_display.insert(0, password)\n",
    "        password_display.config(state='readonly')  \n",
    "\n",
    "    except ValueError:\n",
    "        messagebox.showerror(\"Error\", \"Please enter a valid number for the length.\")\n",
    "\n",
    "root = tk.Tk()\n",
    "root.title(\"Password Generator\")\n",
    "tk.Label(root, text=\"Password Length:\").grid(row=0, column=0, padx=10, pady=10)\n",
    "entry_length = tk.Entry(root)\n",
    "entry_length.grid(row=0, column=1)\n",
    "generate_button = tk.Button(root, text=\"Generate Password\", command=generate_password)\n",
    "generate_button.grid(row=1, column=0, columnspan=2, pady=10)\n",
    "\n",
    "tk.Label(root, text=\"Generated Password:\").grid(row=2, column=0, padx=10, pady=10)\n",
    "password_display = tk.Entry(root, state='readonly')\n",
    "password_display.grid(row=2, column=1)\n",
    "\n",
    "root.mainloop()\n"
   ]
  },
  {
   "cell_type": "code",
   "execution_count": null,
   "id": "a1f00bfa-93d1-496c-a6a0-e366350c0642",
   "metadata": {},
   "outputs": [],
   "source": []
  }
 ],
 "metadata": {
  "kernelspec": {
   "display_name": "Python 3 (ipykernel)",
   "language": "python",
   "name": "python3"
  },
  "language_info": {
   "codemirror_mode": {
    "name": "ipython",
    "version": 3
   },
   "file_extension": ".py",
   "mimetype": "text/x-python",
   "name": "python",
   "nbconvert_exporter": "python",
   "pygments_lexer": "ipython3",
   "version": "3.12.4"
  }
 },
 "nbformat": 4,
 "nbformat_minor": 5
}
